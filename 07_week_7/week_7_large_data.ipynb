{
 "metadata": {
  "language_info": {
   "codemirror_mode": {
    "name": "ipython",
    "version": 3
   },
   "file_extension": ".py",
   "mimetype": "text/x-python",
   "name": "python",
   "nbconvert_exporter": "python",
   "pygments_lexer": "ipython3",
   "version": "3.7.9-final"
  },
  "orig_nbformat": 2,
  "kernelspec": {
   "name": "python3",
   "display_name": "Python 3",
   "language": "python"
  }
 },
 "nbformat": 4,
 "nbformat_minor": 2,
 "cells": [
  {
   "source": [
    "# Week 7 - Predicting Numerical Values"
   ],
   "cell_type": "markdown",
   "metadata": {}
  },
  {
   "cell_type": "code",
   "execution_count": 11,
   "metadata": {},
   "outputs": [],
   "source": [
    "import pandas as pd "
   ]
  },
  {
   "source": [
    "## Load the Cleaned Data\n",
    "\n",
    "This data is just numerical, including the target."
   ],
   "cell_type": "markdown",
   "metadata": {}
  },
  {
   "cell_type": "code",
   "execution_count": 12,
   "metadata": {},
   "outputs": [
    {
     "output_type": "stream",
     "name": "stdout",
     "text": [
      "<class 'pandas.core.frame.DataFrame'>\nRangeIndex: 40000 entries, 0 to 39999\nData columns (total 9 columns):\n #   Column  Non-Null Count  Dtype  \n---  ------  --------------  -----  \n 0   x0      40000 non-null  float64\n 1   x1      40000 non-null  float64\n 2   x2      40000 non-null  float64\n 3   x3      40000 non-null  float64\n 4   x4      40000 non-null  float64\n 5   x5      40000 non-null  float64\n 6   x6      40000 non-null  float64\n 7   x7      40000 non-null  float64\n 8   y       40000 non-null  int64  \ndtypes: float64(8), int64(1)\nmemory usage: 2.7 MB\n"
     ]
    }
   ],
   "source": [
    "data_df = pd.read_csv('./data/clean_large_df.csv')\n",
    "data_df.info()"
   ]
  },
  {
   "source": [
    "## Set the predictors (X) and the target (y). "
   ],
   "cell_type": "markdown",
   "metadata": {}
  },
  {
   "cell_type": "code",
   "execution_count": 13,
   "metadata": {},
   "outputs": [
    {
     "output_type": "stream",
     "name": "stdout",
     "text": [
      "X:               x0         x1         x2        x3         x4         x5  \\\n0       0.198560  74.425320  67.627745 -3.095111  -6.822327  19.048071   \n1     -29.662621  24.320711 -48.205182  1.430339  -6.552206   4.263074   \n2      15.493759 -66.160459  50.512903 -2.265792  14.428578   2.509323   \n3     -19.837651  33.210943  53.405563  1.079462  11.364251  -1.064581   \n4      11.896655 -26.717872 -17.758176  1.692017  21.553537  -5.852097   \n...          ...        ...        ...       ...        ...        ...   \n39995  -8.011289  63.861763  18.135762 -0.328773 -10.857936  14.997781   \n39996  21.769395 -88.026423 -27.868860 -3.490932  -9.440718  -1.461733   \n39997  18.096631  64.294604  -6.942556  1.563421   2.903092  -6.435025   \n39998   3.457479 -29.455176 -22.391388  0.667397 -32.301045   9.979818   \n39999  -7.258538  13.095298 -18.692615  2.321107  20.899080  10.305206   \n\n              x6         x7  \n0      -0.362378 -10.699174  \n1       6.551412   4.265483  \n2      -6.707536   3.820842  \n3       9.308857   9.266076  \n4      -0.857435  -2.186940  \n...          ...        ...  \n39995   9.449744  -5.158064  \n39996   2.786091  -2.919826  \n39997   1.472285   8.574248  \n39998  -6.917162  10.139301  \n39999 -12.844764   7.799377  \n\n[40000 rows x 8 columns] \n\ny:        y\n0      1\n1      2\n2      1\n3      0\n4     -1\n...   ..\n39995  0\n39996  0\n39997 -2\n39998  1\n39999 -2\n\n[40000 rows x 1 columns]\n"
     ]
    }
   ],
   "source": [
    "predictors = ['x0', 'x1', 'x2', 'x3', 'x4', 'x5', 'x6', 'x7']\n",
    "target = ['y']\n",
    "X = data_df[predictors]\n",
    "y = data_df[target]\n",
    "\n",
    "print('X:', X, '\\n')\n",
    "print('y:', y)"
   ]
  },
  {
   "source": [
    "## Separate the Data\n",
    "\n",
    "This sets the test and train data. Not the best way, but good enough for baseline modeling."
   ],
   "cell_type": "markdown",
   "metadata": {}
  },
  {
   "cell_type": "code",
   "execution_count": 14,
   "metadata": {},
   "outputs": [],
   "source": [
    "from sklearn.model_selection import train_test_split\n",
    "\n",
    "X_train, X_test, y_train, y_test = train_test_split(\n",
    "    X, y, random_state=0)"
   ]
  },
  {
   "source": [
    "## Fit the Model\n",
    "\n",
    "This is also known as training the model. I set K arbitrarily. I also set a timer to see how long training takes."
   ],
   "cell_type": "markdown",
   "metadata": {}
  },
  {
   "cell_type": "code",
   "execution_count": 15,
   "metadata": {},
   "outputs": [
    {
     "output_type": "stream",
     "name": "stdout",
     "text": [
      "Elapsed time is  0.08078193664550781\n"
     ]
    }
   ],
   "source": [
    "from sklearn.neighbors import KNeighborsRegressor\n",
    "import time\n",
    "\n",
    "knn_algo = KNeighborsRegressor(n_neighbors=3)\n",
    "\n",
    "start = time.time()\n",
    "knn_algo.fit(X_train, y_train)\n",
    "end = time.time()\n",
    "\n",
    "print(\"Elapsed time is  {}\".format(end-start))"
   ]
  },
  {
   "source": [
    "## Test the Model\n",
    "\n",
    "Send unseen samples taken from the original data (i.e., the test data) during the test/train split to the model."
   ],
   "cell_type": "markdown",
   "metadata": {}
  },
  {
   "cell_type": "code",
   "execution_count": 16,
   "metadata": {},
   "outputs": [],
   "source": [
    "y_pred_knn = knn_algo.predict(X_test)"
   ]
  },
  {
   "source": [
    "## Combine the Data\n",
    "\n",
    "This is a \"bird's eye\" view of the predictions compared to the actual values."
   ],
   "cell_type": "markdown",
   "metadata": {}
  },
  {
   "cell_type": "code",
   "execution_count": 17,
   "metadata": {},
   "outputs": [
    {
     "output_type": "stream",
     "name": "stdout",
     "text": [
      "<class 'pandas.core.frame.DataFrame'>\nInt64Index: 10000 entries, 12836 to 5315\nData columns (total 10 columns):\n #   Column  Non-Null Count  Dtype  \n---  ------  --------------  -----  \n 0   x0      10000 non-null  float64\n 1   x1      10000 non-null  float64\n 2   x2      10000 non-null  float64\n 3   x3      10000 non-null  float64\n 4   x4      10000 non-null  float64\n 5   x5      10000 non-null  float64\n 6   x6      10000 non-null  float64\n 7   x7      10000 non-null  float64\n 8   y       10000 non-null  int64  \n 9   y_pred  10000 non-null  float64\ndtypes: float64(9), int64(1)\nmemory usage: 859.4 KB\nNone\n"
     ]
    }
   ],
   "source": [
    "y_test['y_pred'] = y_pred_knn\n",
    "y_test['y_pred'] = y_test['y_pred'].apply(lambda x: round(x, 0))\n",
    "\n",
    "output_df = pd.concat([X_test, y_test], axis=1)\n",
    "\n",
    "print(output_df.info())"
   ]
  },
  {
   "source": [
    "## Save the Output"
   ],
   "cell_type": "markdown",
   "metadata": {}
  },
  {
   "cell_type": "code",
   "execution_count": 18,
   "metadata": {},
   "outputs": [],
   "source": [
    "output_df.to_csv('./data/output_large_df.csv', index=False)"
   ]
  },
  {
   "source": [
    "## Calculate the Mean Squared Error"
   ],
   "cell_type": "markdown",
   "metadata": {}
  },
  {
   "cell_type": "code",
   "execution_count": 19,
   "metadata": {},
   "outputs": [
    {
     "output_type": "stream",
     "name": "stdout",
     "text": [
      "Mean squared error:  1.56\n"
     ]
    }
   ],
   "source": [
    "from sklearn.metrics import mean_squared_error\n",
    "print('Mean squared error: ', round(mean_squared_error(y_test['y'], y_pred_knn), 2))"
   ]
  },
  {
   "cell_type": "code",
   "execution_count": null,
   "metadata": {},
   "outputs": [],
   "source": []
  }
 ]
}