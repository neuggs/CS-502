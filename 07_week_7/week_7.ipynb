{
 "metadata": {
  "language_info": {
   "codemirror_mode": {
    "name": "ipython",
    "version": 3
   },
   "file_extension": ".py",
   "mimetype": "text/x-python",
   "name": "python",
   "nbconvert_exporter": "python",
   "pygments_lexer": "ipython3",
   "version": "3.7.9-final"
  },
  "orig_nbformat": 2,
  "kernelspec": {
   "name": "python3",
   "display_name": "Python 3",
   "language": "python"
  }
 },
 "nbformat": 4,
 "nbformat_minor": 2,
 "cells": [
  {
   "source": [
    "# Week 7 - Predicting Numerical Values"
   ],
   "cell_type": "markdown",
   "metadata": {}
  },
  {
   "cell_type": "code",
   "execution_count": 3,
   "metadata": {},
   "outputs": [],
   "source": [
    "import pandas as pd "
   ]
  },
  {
   "source": [
    "## Load the Cleaned Data\n",
    "\n",
    "This data is just numerical, including the target."
   ],
   "cell_type": "markdown",
   "metadata": {}
  },
  {
   "cell_type": "code",
   "execution_count": 4,
   "metadata": {},
   "outputs": [
    {
     "output_type": "stream",
     "name": "stdout",
     "text": [
      "<class 'pandas.core.frame.DataFrame'>\nRangeIndex: 1000 entries, 0 to 999\nData columns (total 9 columns):\n #   Column  Non-Null Count  Dtype  \n---  ------  --------------  -----  \n 0   x0      1000 non-null   float64\n 1   x1      1000 non-null   float64\n 2   x2      1000 non-null   float64\n 3   x3      1000 non-null   float64\n 4   x4      1000 non-null   float64\n 5   x5      1000 non-null   float64\n 6   x6      1000 non-null   float64\n 7   x7      1000 non-null   float64\n 8   y       1000 non-null   int64  \ndtypes: float64(8), int64(1)\nmemory usage: 70.4 KB\n"
     ]
    }
   ],
   "source": [
    "data_df = pd.read_csv('./data/clean_df_small.csv')\n",
    "data_df.info()"
   ]
  },
  {
   "source": [
    "## Set the predictors (X) and the target (y). "
   ],
   "cell_type": "markdown",
   "metadata": {}
  },
  {
   "cell_type": "code",
   "execution_count": 5,
   "metadata": {},
   "outputs": [
    {
     "output_type": "stream",
     "name": "stdout",
     "text": [
      "X:             x0         x1         x2        x3         x4         x5  \\\n0     0.198560  74.425320  67.627745 -3.095111  -6.822327  19.048071   \n1   -29.662621  24.320711 -48.205182  1.430339  -6.552206   4.263074   \n2    15.493759 -66.160459  50.512903 -2.265792  14.428578   2.509323   \n3   -19.837651  33.210943  53.405563  1.079462  11.364251  -1.064581   \n4    11.896655 -26.717872 -17.758176  1.692017  21.553537  -5.852097   \n..         ...        ...        ...       ...        ...        ...   \n995  10.168917 -53.467000   5.798938 -2.070763   6.978812  -9.610800   \n996  10.888354 -16.407455 -18.555127 -1.471866   3.357271  17.756201   \n997   4.194442  29.487012 -24.583970  1.216510   4.300679 -20.482651   \n998  -5.593978 -51.214137 -30.648869 -0.456163  -6.769102 -14.417841   \n999  30.962264 -37.445070 -23.288074  1.975351   3.268378 -22.832079   \n\n            x6         x7  \n0    -0.362378 -10.699174  \n1     6.551412   4.265483  \n2    -6.707536   3.820842  \n3     9.308857   9.266076  \n4    -0.857435  -2.186940  \n..         ...        ...  \n995   3.839214   6.218202  \n996  -3.046682  -5.893241  \n997   5.140181  -0.487982  \n998  -3.861422 -10.720961  \n999  10.571739  10.275341  \n\n[1000 rows x 8 columns] \n\ny:      y\n0    1\n1    2\n2    1\n3    0\n4   -1\n..  ..\n995  0\n996 -2\n997 -1\n998  0\n999 -2\n\n[1000 rows x 1 columns]\n"
     ]
    }
   ],
   "source": [
    "predictors = ['x0', 'x1', 'x2', 'x3', 'x4', 'x5', 'x6', 'x7']\n",
    "target = ['y']\n",
    "X = data_df[predictors]\n",
    "y = data_df[target]\n",
    "\n",
    "print('X:', X, '\\n')\n",
    "print('y:', y)"
   ]
  },
  {
   "source": [
    "## Separate the Data\n",
    "\n",
    "This sets the test and train data. Not the best way, but good enough for baseline modeling."
   ],
   "cell_type": "markdown",
   "metadata": {}
  },
  {
   "cell_type": "code",
   "execution_count": 6,
   "metadata": {},
   "outputs": [],
   "source": [
    "from sklearn.model_selection import train_test_split\n",
    "\n",
    "X_train, X_test, y_train, y_test = train_test_split(\n",
    "    X, y, random_state=0)"
   ]
  },
  {
   "source": [
    "## Fit the Model\n",
    "\n",
    "This is also known as training the model. I set K arbitrarily. I also set a timer to see how long training takes."
   ],
   "cell_type": "markdown",
   "metadata": {}
  },
  {
   "cell_type": "code",
   "execution_count": 7,
   "metadata": {},
   "outputs": [
    {
     "output_type": "stream",
     "name": "stdout",
     "text": [
      "Elapsed time is  0.0030291080474853516\n"
     ]
    }
   ],
   "source": [
    "from sklearn.neighbors import KNeighborsRegressor\n",
    "import time\n",
    "\n",
    "knn_algo = KNeighborsRegressor(n_neighbors=3)\n",
    "\n",
    "start = time.time()\n",
    "knn_algo.fit(X_train, y_train)\n",
    "end = time.time()\n",
    "\n",
    "print(\"Elapsed time is  {}\".format(end-start))"
   ]
  },
  {
   "source": [
    "## Test the Model\n",
    "\n",
    "Send unseen samples taken from the original data (i.e., the test data) during the test/train split to the model."
   ],
   "cell_type": "markdown",
   "metadata": {}
  },
  {
   "cell_type": "code",
   "execution_count": 8,
   "metadata": {},
   "outputs": [],
   "source": [
    "y_pred_knn = knn_algo.predict(X_test)"
   ]
  },
  {
   "source": [
    "## Combine the Data\n",
    "\n",
    "This is a \"bird's eye\" view of the predictions compared to the actual values."
   ],
   "cell_type": "markdown",
   "metadata": {}
  },
  {
   "cell_type": "code",
   "execution_count": 9,
   "metadata": {},
   "outputs": [
    {
     "output_type": "stream",
     "name": "stdout",
     "text": [
      "<class 'pandas.core.frame.DataFrame'>\nInt64Index: 250 entries, 993 to 695\nData columns (total 10 columns):\n #   Column  Non-Null Count  Dtype  \n---  ------  --------------  -----  \n 0   x0      250 non-null    float64\n 1   x1      250 non-null    float64\n 2   x2      250 non-null    float64\n 3   x3      250 non-null    float64\n 4   x4      250 non-null    float64\n 5   x5      250 non-null    float64\n 6   x6      250 non-null    float64\n 7   x7      250 non-null    float64\n 8   y       250 non-null    int64  \n 9   y_pred  250 non-null    float64\ndtypes: float64(9), int64(1)\nmemory usage: 21.5 KB\nNone\n"
     ]
    }
   ],
   "source": [
    "y_test['y_pred'] = y_pred_knn\n",
    "y_test['y_pred'] = y_test['y_pred'].apply(lambda x: round(x, 0))\n",
    "\n",
    "output_df = pd.concat([X_test, y_test], axis=1)\n",
    "\n",
    "print(output_df.info())"
   ]
  },
  {
   "source": [
    "## Save the Output"
   ],
   "cell_type": "markdown",
   "metadata": {}
  },
  {
   "cell_type": "code",
   "execution_count": 10,
   "metadata": {},
   "outputs": [],
   "source": [
    "output_df.to_csv('./data/output_df.csv', index=False)"
   ]
  },
  {
   "source": [
    "## Calculate the Mean Squared Error"
   ],
   "cell_type": "markdown",
   "metadata": {}
  },
  {
   "cell_type": "code",
   "execution_count": 11,
   "metadata": {},
   "outputs": [
    {
     "output_type": "stream",
     "name": "stdout",
     "text": [
      "Mean squared error:  1.87\n"
     ]
    }
   ],
   "source": [
    "from sklearn.metrics import mean_squared_error\n",
    "print('Mean squared error: ', round(mean_squared_error(y_test['y'], y_pred_knn), 2))"
   ]
  },
  {
   "cell_type": "code",
   "execution_count": null,
   "metadata": {},
   "outputs": [],
   "source": []
  }
 ]
}