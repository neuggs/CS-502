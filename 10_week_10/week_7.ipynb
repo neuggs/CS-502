{
 "metadata": {
  "language_info": {
   "codemirror_mode": {
    "name": "ipython",
    "version": 3
   },
   "file_extension": ".py",
   "mimetype": "text/x-python",
   "name": "python",
   "nbconvert_exporter": "python",
   "pygments_lexer": "ipython3",
   "version": "3.7.9-final"
  },
  "orig_nbformat": 2,
  "kernelspec": {
   "name": "python3",
   "display_name": "Python 3",
   "language": "python"
  }
 },
 "nbformat": 4,
 "nbformat_minor": 2,
 "cells": [
  {
   "source": [
    "# Week 7 - Predicting Numerical Values"
   ],
   "cell_type": "markdown",
   "metadata": {}
  },
  {
   "source": [
    "## Imports"
   ],
   "cell_type": "markdown",
   "metadata": {}
  },
  {
   "cell_type": "code",
   "execution_count": 71,
   "metadata": {},
   "outputs": [],
   "source": [
    "import pandas as pd "
   ]
  },
  {
   "cell_type": "code",
   "execution_count": 72,
   "metadata": {},
   "outputs": [
    {
     "output_type": "stream",
     "name": "stdout",
     "text": [
      "<class 'pandas.core.frame.DataFrame'>\nRangeIndex: 999 entries, 0 to 998\nData columns (total 12 columns):\n #   Column  Non-Null Count  Dtype  \n---  ------  --------------  -----  \n 0   x0      999 non-null    float64\n 1   x1      999 non-null    float64\n 2   x34     999 non-null    object \n 3   x35     999 non-null    object \n 4   x36     999 non-null    float64\n 5   x41     999 non-null    object \n 6   x45     998 non-null    object \n 7   x46     999 non-null    float64\n 8   x68     999 non-null    object \n 9   x84     999 non-null    float64\n 10  x93     999 non-null    object \n 11  x94     999 non-null    float64\ndtypes: float64(6), object(6)\nmemory usage: 93.8+ KB\n"
     ]
    }
   ],
   "source": [
    "original_df = pd.read_csv('./assignment_3_data.csv')\n",
    "original_df.info()"
   ]
  },
  {
   "source": [
    "## Correction Functions"
   ],
   "cell_type": "markdown",
   "metadata": {}
  },
  {
   "cell_type": "code",
   "execution_count": 73,
   "metadata": {},
   "outputs": [],
   "source": [
    "def correct_word(x, wrong_word, right_word):\n",
    "    if x == wrong_word:\n",
    "        return right_word\n",
    "    else:\n",
    "        return x"
   ]
  },
  {
   "source": [
    "## Data Corrections\n",
    "\n",
    "### Typos and Day/Date Consistency"
   ],
   "cell_type": "markdown",
   "metadata": {}
  },
  {
   "cell_type": "code",
   "execution_count": 74,
   "metadata": {},
   "outputs": [
    {
     "output_type": "stream",
     "name": "stdout",
     "text": [
      "Completed making data corrections.\n"
     ]
    }
   ],
   "source": [
    "original_df['x34'] = original_df['x34'].apply(lambda x: x.lower())\n",
    "original_df['x34'] = original_df['x34'].apply(lambda x: correct_word(x, 'volkswagon', 'volkswagen'))\n",
    "original_df['x34'] = original_df['x34'].apply(lambda x: correct_word(x, 'chrystler', 'chrysler'))\n",
    "original_df['x34'] = original_df['x34'].apply(lambda x: correct_word(x, 'mercades', 'mercedes'))\n",
    "\n",
    "original_df['x35'] = original_df['x35'].apply(lambda x: correct_word(x, 'monday', 'mon'))\n",
    "original_df['x35'] = original_df['x35'].apply(lambda x: correct_word(x, 'tuesday', 'tue'))\n",
    "\n",
    "print('Completed making data corrections.')\n",
    "original_df['x35'] = original_df['x35'].apply(lambda x: correct_word(x, 'wednesday', 'wed'))\n",
    "original_df['x35'] = original_df['x35'].apply(lambda x: correct_word(x, 'thurday', 'thur'))\n",
    "original_df['x35'] = original_df['x35'].apply(lambda x: correct_word(x, 'friday', 'fri'))\n",
    "\n",
    "original_df['x68'] = original_df['x68'].apply(lambda x: correct_word(x, 'july', 'jul'))\n",
    "original_df['x68'] = original_df['x68'].apply(lambda x: correct_word(x, 'sept.', 'sept'))\n",
    "original_df['x68'] = original_df['x68'].apply(lambda x: correct_word(x, 'dev', 'dec'))\n",
    "\n",
    "original_df['x93'] = original_df['x93'].apply(lambda x: correct_word(x, 'euorpe', 'europe'))"
   ]
  },
  {
   "source": [
    "### Fix Numerical Data"
   ],
   "cell_type": "markdown",
   "metadata": {}
  },
  {
   "cell_type": "code",
   "execution_count": 75,
   "metadata": {},
   "outputs": [
    {
     "output_type": "stream",
     "name": "stdout",
     "text": [
      "Completed fixing numerical data.\n"
     ]
    }
   ],
   "source": [
    "original_df['x41'] = original_df['x41'].apply(lambda x: x.replace('$', '').replace(',', '') if isinstance(x, str) else x)\n",
    "original_df['x41'] = original_df['x41'].apply(lambda x: float(x.replace('(', '-').replace(')', '')) if isinstance(x, str) else x)\n",
    "\n",
    "original_df['x45'] = original_df['x45'].apply(lambda x: float(x.rstrip('%')) if isinstance(x, str) else x)\n",
    "\n",
    "print('Completed fixing numerical data.')"
   ]
  },
  {
   "source": [
    "## Encoding"
   ],
   "cell_type": "markdown",
   "metadata": {}
  },
  {
   "cell_type": "code",
   "execution_count": 76,
   "metadata": {},
   "outputs": [
    {
     "output_type": "stream",
     "name": "stdout",
     "text": [
      "Completed encoding\n"
     ]
    }
   ],
   "source": [
    "from sklearn.preprocessing import LabelEncoder\n",
    "\n",
    "# Ordinal\n",
    "label_encoder = LabelEncoder()\n",
    "original_df['x35'] = label_encoder.fit_transform(original_df['x35'].astype(str))\n",
    "original_df['x68'] = label_encoder.fit_transform(original_df['x68'].astype(str))\n",
    "\n",
    "# Nominal\n",
    "original_df = pd.concat([original_df, pd.get_dummies(original_df['x34'], prefix='x34')], axis=1)\n",
    "original_df.drop(['x34'], axis=1, inplace=True)\n",
    "\n",
    "original_df = pd.concat([original_df, pd.get_dummies(original_df['x93'], prefix='x93')], axis=1)\n",
    "original_df.drop(['x93'], axis=1, inplace=True)\n",
    "\n",
    "print('Completed encoding')"
   ]
  },
  {
   "source": [
    "## Missing Value\n",
    "There's only one. Going to use mean to fix it since there's only one value."
   ],
   "cell_type": "markdown",
   "metadata": {}
  },
  {
   "cell_type": "code",
   "execution_count": 77,
   "metadata": {},
   "outputs": [
    {
     "output_type": "stream",
     "name": "stdout",
     "text": [
      "Completed filling missing value.\n"
     ]
    }
   ],
   "source": [
    "original_df['x45'].fillna((original_df['x45'].mean()), inplace=True)\n",
    "print('Completed filling missing value.')"
   ]
  },
  {
   "cell_type": "code",
   "execution_count": 78,
   "metadata": {},
   "outputs": [
    {
     "output_type": "stream",
     "name": "stdout",
     "text": [
      "<class 'pandas.core.frame.DataFrame'>\nRangeIndex: 999 entries, 0 to 998\nData columns (total 23 columns):\n #   Column          Non-Null Count  Dtype  \n---  ------          --------------  -----  \n 0   x0              999 non-null    float64\n 1   x1              999 non-null    float64\n 2   x35             999 non-null    int32  \n 3   x36             999 non-null    float64\n 4   x41             999 non-null    float64\n 5   x45             999 non-null    float64\n 6   x46             999 non-null    float64\n 7   x68             999 non-null    int32  \n 8   x84             999 non-null    float64\n 9   x94             999 non-null    float64\n 10  x34_bmw         999 non-null    uint8  \n 11  x34_chevrolet   999 non-null    uint8  \n 12  x34_chrysler    999 non-null    uint8  \n 13  x34_ford        999 non-null    uint8  \n 14  x34_honda       999 non-null    uint8  \n 15  x34_mercedes    999 non-null    uint8  \n 16  x34_nissan      999 non-null    uint8  \n 17  x34_tesla       999 non-null    uint8  \n 18  x34_toyota      999 non-null    uint8  \n 19  x34_volkswagen  999 non-null    uint8  \n 20  x93_america     999 non-null    uint8  \n 21  x93_asia        999 non-null    uint8  \n 22  x93_europe      999 non-null    uint8  \ndtypes: float64(8), int32(2), uint8(13)\nmemory usage: 83.0 KB\n"
     ]
    }
   ],
   "source": [
    "original_df.info()"
   ]
  },
  {
   "source": [
    "## Save the DataFrame"
   ],
   "cell_type": "markdown",
   "metadata": {}
  },
  {
   "cell_type": "code",
   "execution_count": 83,
   "metadata": {},
   "outputs": [],
   "source": [
    "original_df.to_csv('./data/clean_df.csv', index=False)"
   ]
  },
  {
   "cell_type": "code",
   "execution_count": 84,
   "metadata": {},
   "outputs": [
    {
     "output_type": "error",
     "ename": "KeyError",
     "evalue": "'y'",
     "traceback": [
      "\u001b[1;31m---------------------------------------------------------------------------\u001b[0m",
      "\u001b[1;31mKeyError\u001b[0m                                  Traceback (most recent call last)",
      "\u001b[1;32m~\\AppData\\Roaming\\Python\\Python37\\site-packages\\pandas\\core\\indexes\\base.py\u001b[0m in \u001b[0;36mget_loc\u001b[1;34m(self, key, method, tolerance)\u001b[0m\n\u001b[0;32m   2894\u001b[0m             \u001b[1;32mtry\u001b[0m\u001b[1;33m:\u001b[0m\u001b[1;33m\u001b[0m\u001b[1;33m\u001b[0m\u001b[0m\n\u001b[1;32m-> 2895\u001b[1;33m                 \u001b[1;32mreturn\u001b[0m \u001b[0mself\u001b[0m\u001b[1;33m.\u001b[0m\u001b[0m_engine\u001b[0m\u001b[1;33m.\u001b[0m\u001b[0mget_loc\u001b[0m\u001b[1;33m(\u001b[0m\u001b[0mcasted_key\u001b[0m\u001b[1;33m)\u001b[0m\u001b[1;33m\u001b[0m\u001b[1;33m\u001b[0m\u001b[0m\n\u001b[0m\u001b[0;32m   2896\u001b[0m             \u001b[1;32mexcept\u001b[0m \u001b[0mKeyError\u001b[0m \u001b[1;32mas\u001b[0m \u001b[0merr\u001b[0m\u001b[1;33m:\u001b[0m\u001b[1;33m\u001b[0m\u001b[1;33m\u001b[0m\u001b[0m\n",
      "\u001b[1;32mpandas\\_libs\\index.pyx\u001b[0m in \u001b[0;36mpandas._libs.index.IndexEngine.get_loc\u001b[1;34m()\u001b[0m\n",
      "\u001b[1;32mpandas\\_libs\\index.pyx\u001b[0m in \u001b[0;36mpandas._libs.index.IndexEngine.get_loc\u001b[1;34m()\u001b[0m\n",
      "\u001b[1;32mpandas\\_libs\\hashtable_class_helper.pxi\u001b[0m in \u001b[0;36mpandas._libs.hashtable.PyObjectHashTable.get_item\u001b[1;34m()\u001b[0m\n",
      "\u001b[1;32mpandas\\_libs\\hashtable_class_helper.pxi\u001b[0m in \u001b[0;36mpandas._libs.hashtable.PyObjectHashTable.get_item\u001b[1;34m()\u001b[0m\n",
      "\u001b[1;31mKeyError\u001b[0m: 'y'",
      "\nThe above exception was the direct cause of the following exception:\n",
      "\u001b[1;31mKeyError\u001b[0m                                  Traceback (most recent call last)",
      "\u001b[1;32m<ipython-input-84-437a58bd482d>\u001b[0m in \u001b[0;36m<module>\u001b[1;34m\u001b[0m\n\u001b[0;32m      1\u001b[0m \u001b[0mclean_df\u001b[0m \u001b[1;33m=\u001b[0m \u001b[0mpd\u001b[0m\u001b[1;33m.\u001b[0m\u001b[0mread_csv\u001b[0m\u001b[1;33m(\u001b[0m\u001b[1;34m'./data/clean_df.csv'\u001b[0m\u001b[1;33m)\u001b[0m\u001b[1;33m\u001b[0m\u001b[1;33m\u001b[0m\u001b[0m\n\u001b[1;32m----> 2\u001b[1;33m \u001b[0my\u001b[0m \u001b[1;33m=\u001b[0m \u001b[0mclean_df\u001b[0m\u001b[1;33m[\u001b[0m\u001b[1;34m'y'\u001b[0m\u001b[1;33m]\u001b[0m\u001b[1;33m\u001b[0m\u001b[1;33m\u001b[0m\u001b[0m\n\u001b[0m\u001b[0;32m      3\u001b[0m \u001b[0mX\u001b[0m \u001b[1;33m=\u001b[0m \u001b[0mclean_df\u001b[0m\u001b[1;33m.\u001b[0m\u001b[0mloc\u001b[0m\u001b[1;33m[\u001b[0m\u001b[1;33m:\u001b[0m\u001b[1;33m,\u001b[0m \u001b[0mclean_df\u001b[0m\u001b[1;33m.\u001b[0m\u001b[0mcolumns\u001b[0m \u001b[1;33m!=\u001b[0m \u001b[1;34m'y'\u001b[0m\u001b[1;33m]\u001b[0m\u001b[1;33m\u001b[0m\u001b[1;33m\u001b[0m\u001b[0m\n",
      "\u001b[1;32m~\\AppData\\Roaming\\Python\\Python37\\site-packages\\pandas\\core\\frame.py\u001b[0m in \u001b[0;36m__getitem__\u001b[1;34m(self, key)\u001b[0m\n\u001b[0;32m   2904\u001b[0m             \u001b[1;32mif\u001b[0m \u001b[0mself\u001b[0m\u001b[1;33m.\u001b[0m\u001b[0mcolumns\u001b[0m\u001b[1;33m.\u001b[0m\u001b[0mnlevels\u001b[0m \u001b[1;33m>\u001b[0m \u001b[1;36m1\u001b[0m\u001b[1;33m:\u001b[0m\u001b[1;33m\u001b[0m\u001b[1;33m\u001b[0m\u001b[0m\n\u001b[0;32m   2905\u001b[0m                 \u001b[1;32mreturn\u001b[0m \u001b[0mself\u001b[0m\u001b[1;33m.\u001b[0m\u001b[0m_getitem_multilevel\u001b[0m\u001b[1;33m(\u001b[0m\u001b[0mkey\u001b[0m\u001b[1;33m)\u001b[0m\u001b[1;33m\u001b[0m\u001b[1;33m\u001b[0m\u001b[0m\n\u001b[1;32m-> 2906\u001b[1;33m             \u001b[0mindexer\u001b[0m \u001b[1;33m=\u001b[0m \u001b[0mself\u001b[0m\u001b[1;33m.\u001b[0m\u001b[0mcolumns\u001b[0m\u001b[1;33m.\u001b[0m\u001b[0mget_loc\u001b[0m\u001b[1;33m(\u001b[0m\u001b[0mkey\u001b[0m\u001b[1;33m)\u001b[0m\u001b[1;33m\u001b[0m\u001b[1;33m\u001b[0m\u001b[0m\n\u001b[0m\u001b[0;32m   2907\u001b[0m             \u001b[1;32mif\u001b[0m \u001b[0mis_integer\u001b[0m\u001b[1;33m(\u001b[0m\u001b[0mindexer\u001b[0m\u001b[1;33m)\u001b[0m\u001b[1;33m:\u001b[0m\u001b[1;33m\u001b[0m\u001b[1;33m\u001b[0m\u001b[0m\n\u001b[0;32m   2908\u001b[0m                 \u001b[0mindexer\u001b[0m \u001b[1;33m=\u001b[0m \u001b[1;33m[\u001b[0m\u001b[0mindexer\u001b[0m\u001b[1;33m]\u001b[0m\u001b[1;33m\u001b[0m\u001b[1;33m\u001b[0m\u001b[0m\n",
      "\u001b[1;32m~\\AppData\\Roaming\\Python\\Python37\\site-packages\\pandas\\core\\indexes\\base.py\u001b[0m in \u001b[0;36mget_loc\u001b[1;34m(self, key, method, tolerance)\u001b[0m\n\u001b[0;32m   2895\u001b[0m                 \u001b[1;32mreturn\u001b[0m \u001b[0mself\u001b[0m\u001b[1;33m.\u001b[0m\u001b[0m_engine\u001b[0m\u001b[1;33m.\u001b[0m\u001b[0mget_loc\u001b[0m\u001b[1;33m(\u001b[0m\u001b[0mcasted_key\u001b[0m\u001b[1;33m)\u001b[0m\u001b[1;33m\u001b[0m\u001b[1;33m\u001b[0m\u001b[0m\n\u001b[0;32m   2896\u001b[0m             \u001b[1;32mexcept\u001b[0m \u001b[0mKeyError\u001b[0m \u001b[1;32mas\u001b[0m \u001b[0merr\u001b[0m\u001b[1;33m:\u001b[0m\u001b[1;33m\u001b[0m\u001b[1;33m\u001b[0m\u001b[0m\n\u001b[1;32m-> 2897\u001b[1;33m                 \u001b[1;32mraise\u001b[0m \u001b[0mKeyError\u001b[0m\u001b[1;33m(\u001b[0m\u001b[0mkey\u001b[0m\u001b[1;33m)\u001b[0m \u001b[1;32mfrom\u001b[0m \u001b[0merr\u001b[0m\u001b[1;33m\u001b[0m\u001b[1;33m\u001b[0m\u001b[0m\n\u001b[0m\u001b[0;32m   2898\u001b[0m \u001b[1;33m\u001b[0m\u001b[0m\n\u001b[0;32m   2899\u001b[0m         \u001b[1;32mif\u001b[0m \u001b[0mtolerance\u001b[0m \u001b[1;32mis\u001b[0m \u001b[1;32mnot\u001b[0m \u001b[1;32mNone\u001b[0m\u001b[1;33m:\u001b[0m\u001b[1;33m\u001b[0m\u001b[1;33m\u001b[0m\u001b[0m\n",
      "\u001b[1;31mKeyError\u001b[0m: 'y'"
     ]
    }
   ],
   "source": [
    "clean_df = pd.read_csv('./data/clean_df.csv')\n",
    "y = clean_df['y']\n",
    "X = clean_df.loc[:, clean_df.columns != 'y']"
   ]
  },
  {
   "cell_type": "code",
   "execution_count": null,
   "metadata": {},
   "outputs": [],
   "source": []
  }
 ]
}